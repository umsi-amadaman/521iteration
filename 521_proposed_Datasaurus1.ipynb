{
 "cells": [
  {
   "cell_type": "markdown",
   "metadata": {
    "deletable": false,
    "editable": false,
    "nbgrader": {
     "cell_type": "markdown",
     "checksum": "8dbb7b0711a5dee59fb9df955a5759cc",
     "grade": false,
     "grade_id": "cell-intro",
     "locked": true,
     "schema_version": 3,
     "solution": false,
     "task": false
    }
   },
   "source": [
    "# Statistics and Visualization Assignment (100 points)\n",
    "\n",
    "In this assignment, you'll explore the relationship between summary statistics and data visualization using a mystery dataset. You'll discover why it's crucial to look beyond basic statistical measures when analyzing data."
   ]
  },
  {
   "cell_type": "markdown",
   "metadata": {
    "deletable": false,
    "editable": false,
    "nbgrader": {
     "cell_type": "markdown",
     "checksum": "f1624fa058a2f60d4b645dab9d2743f1",
     "grade": false,
     "grade_id": "cell-part1",
     "locked": true,
     "schema_version": 3,
     "solution": false,
     "task": false
    }
   },
   "source": [
    "## Part 1: Data Loading and Initial Analysis (15 points)\n",
    "\n",
    "First, load the mystery dataset and examine its basic properties. The dataset is provided in 'mystery_data.tsv'."
   ]
  },
  {
   "cell_type": "code",
   "execution_count": null,
   "metadata": {
    "deletable": false,
    "nbgrader": {
     "cell_type": "code",
     "checksum": "d3f6dd6f8c9546ca1f9203495c2df42b",
     "grade": false,
     "grade_id": "load_data",
     "locked": false,
     "schema_version": 3,
     "solution": true,
     "task": false
    }
   },
   "outputs": [],
   "source": [
    "import pandas as pd\n",
    "import numpy as np\n",
    "import matplotlib.pyplot as plt\n",
    "\n",
    "def load_and_display_data():\n",
    "    \"\"\"Load the mystery dataset and display its first few rows.\"\"\"\n",
    "    # YOUR CODE HERE\n",
    "    raise NotImplementedError()\n",
    "\n",
    "mystery_data = load_and_display_data()"
   ]
  },
  {
   "cell_type": "markdown",
   "metadata": {
    "deletable": false,
    "editable": false,
    "nbgrader": {
     "cell_type": "markdown",
     "checksum": "6ef1158018838ca8b5b728fce67e627e",
     "grade": false,
     "grade_id": "cell-part2",
     "locked": true,
     "schema_version": 3,
     "solution": false,
     "task": false
    }
   },
   "source": [
    "## Part 2: Summary Statistics (30 points)\n",
    "\n",
    "Calculate key statistical measures for the dataset. Make sure to include:\n",
    "- Basic summary statistics\n",
    "- Mean and standard deviation for x and y\n",
    "- Correlation between x and y"
   ]
  },
  {
   "cell_type": "code",
   "execution_count": null,
   "metadata": {
    "deletable": false,
    "nbgrader": {
     "cell_type": "code",
     "checksum": "5c8e9c4c6735e783c3f61dfdfd2dd9d6",
     "grade": false,
     "grade_id": "calculate_stats",
     "locked": false,
     "schema_version": 3,
     "solution": true,
     "task": false
    }
   },
   "outputs": [],
   "source": [
    "def calculate_statistics(data):\n",
    "    \"\"\"Calculate and display key statistics for the dataset.\"\"\"\n",
    "    # YOUR CODE HERE\n",
    "    raise NotImplementedError()\n",
    "\n",
    "stats_results = calculate_statistics(mystery_data)"
   ]
  },
  {
   "cell_type": "markdown",
   "metadata": {
    "deletable": false,
    "editable": false,
    "nbgrader": {
     "cell_type": "markdown",
     "checksum": "21019fdb4306652aa14cc5b6d5ca68fe",
     "grade": false,
     "grade_id": "cell-part3",
     "locked": true,
     "schema_version": 3,
     "solution": false,
     "task": false
    }
   },
   "source": [
    "## Part 3: Written Analysis (20 points)\n",
    "\n",
    "Based on the summary statistics you calculated above:\n",
    "1. What type of relationship do you expect between x and y variables?\n",
    "2. Sketch what you think the data might look like when plotted.\n",
    "3. What conclusions might you draw about this dataset based only on these statistics?\n",
    "4. What additional statistical measures might be helpful?"
   ]
  },
  {
   "cell_type": "markdown",
   "metadata": {
    "deletable": false,
    "nbgrader": {
     "cell_type": "markdown",
     "checksum": "8678cb84a74a787332ed6ad5bafa4fd0",
     "grade": true,
     "grade_id": "written_analysis",
     "locked": false,
     "points": 20,
     "schema_version": 3,
     "solution": true,
     "task": false
    }
   },
   "source": [
    "YOUR ANSWER HERE"
   ]
  },
  {
   "cell_type": "markdown",
   "metadata": {
    "deletable": false,
    "editable": false,
    "nbgrader": {
     "cell_type": "markdown",
     "checksum": "ee6487094030bbefc8f603f5b3caf323",
     "grade": false,
     "grade_id": "cell-part4",
     "locked": true,
     "schema_version": 3,
     "solution": false,
     "task": false
    }
   },
   "source": [
    "## Part 4: Data Visualization (35 points)\n",
    "\n",
    "Create a comprehensive visualization of the dataset. Your visualization should include:\n",
    "- A scatter plot of x vs y\n",
    "- Appropriate figure size and styling\n",
    "- Clear titles and labels\n",
    "- A text box showing the summary statistics"
   ]
  },
  {
   "cell_type": "code",
   "execution_count": null,
   "metadata": {
    "deletable": false,
    "nbgrader": {
     "cell_type": "code",
     "checksum": "c6335a26af49e0ba",
     "grade": false,
     "grade_id": "create_visualization",
     "locked": false,
     "schema_version": 3,
     "solution": true,
     "task": false
    }
   },
   "outputs": [],
   "source": [
    "def create_visualization(data, stats):\n",
    "    \"\"\"Create and display a comprehensive visualization of the dataset.\"\"\"\n",
    "    # YOUR CODE HERE\n",
    "    raise NotImplementedError()\n",
    "\n",
    "create_visualization(mystery_data, stats_results)"
   ]
  },
  {
   "cell_type": "markdown",
   "metadata": {
    "deletable": false,
    "editable": false,
    "nbgrader": {
     "cell_type": "markdown",
     "checksum": "c5c6ab65daf0e33a317b7cf0dc4b1806",
     "grade": false,
     "grade_id": "cell-extra-credit",
     "locked": true,
     "schema_version": 3,
     "solution": false,
     "task": false
    }
   },
   "source": [
    "## Extra Credit: Reflection (10 bonus points)\n",
    "\n",
    "After completing your visualization:\n",
    "1. Compare your expectations from Part 3 with the actual visualization.\n",
    "2. What surprised you most about this exercise?\n",
    "3. What are the implications for data analysis practices?"
   ]
  },
  {
   "cell_type": "markdown",
   "metadata": {
    "deletable": false,
    "nbgrader": {
     "cell_type": "markdown",
     "checksum": "f1624fa058a2f60d4b645dab9d2743f1",
     "grade": true,
     "grade_id": "reflection",
     "locked": false,
     "points": 10,
     "schema_version": 3,
     "solution": true,
     "task": false
    }
   },
   "source": [
    "YOUR ANSWER HERE"
   ]
  }
 ],
 "metadata": {
  "kernelspec": {
   "display_name": "Python 3",
   "language": "python",
   "name": "python3"
  },
  "language_info": {
   "codemirror_mode": {
    "name": "ipython",
    "version": 3
   },
   "file_extension": ".py",
   "mimetype": "text/x-python",
   "name": "python",
   "nbconvert_exporter": "python",
   "pygments_lexer": "ipython3",
   "version": "3.8.0"
  },
  "nbgrader": {
   "notebook_version": 2,
   "schema_version": 3
  }
 },
 "nbformat": 4,
 "nbformat_minor": 4
}
