{
  "nbformat": 4,
  "nbformat_minor": 0,
  "metadata": {
    "colab": {
      "private_outputs": true,
      "provenance": []
    },
    "kernelspec": {
      "name": "python3",
      "display_name": "Python 3"
    },
    "language_info": {
      "name": "python"
    }
  },
  "cells": [
    {
      "cell_type": "code",
      "source": [
        "import pandas as pd\n",
        "import matplotlib.pyplot as plt\n",
        "\n",
        "# Load the data\n",
        "df = pd.read_csv('BoxPlots.tsv', sep='\\t', index_col=0)\n",
        "\n",
        "# Basic Box Plot\n",
        "plt.figure(figsize=(10, 6))\n",
        "df.boxplot()\n",
        "plt.title(\"Box Plot of Data\")\n",
        "plt.ylabel(\"Values\")\n",
        "plt.show()\n"
      ],
      "metadata": {
        "id": "hIk3SSTOWubq"
      },
      "execution_count": null,
      "outputs": []
    },
    {
      "cell_type": "code",
      "source": [
        "import numpy as np\n",
        "\n",
        "plt.figure(figsize=(10, 6))\n",
        "\n",
        "for i, column in enumerate(df.columns):\n",
        "    x = np.full(df[column].shape, i + 1)  # Assign x-coordinate based on category index\n",
        "    plt.scatter(x, df[column], alpha=0.7, s=10)  # Small, slightly transparent dots\n",
        "\n",
        "plt.xticks(ticks=range(1, len(df.columns) + 1), labels=df.columns)\n",
        "plt.title(\"Dot Plot of Data Points\")\n",
        "plt.xlabel(\"Categories\")\n",
        "plt.ylabel(\"Values\")\n",
        "plt.show()\n"
      ],
      "metadata": {
        "id": "KfXCeRRyWzvV"
      },
      "execution_count": null,
      "outputs": []
    },
    {
      "cell_type": "code",
      "source": [
        "plt.figure(figsize=(10, 6))\n",
        "\n",
        "for i, column in enumerate(df.columns):\n",
        "    x = np.random.normal(i + 1, 0.1, size=df[column].shape)  # Add jitter to x-coordinates\n",
        "    plt.scatter(x, df[column], alpha=0.3, s=10)\n",
        "\n",
        "plt.xticks(ticks=range(1, len(df.columns) + 1), labels=df.columns)\n",
        "plt.title(\"Jittered Dot Plot of Data Points\")\n",
        "plt.xlabel(\"Categories\")\n",
        "plt.ylabel(\"Values\")\n",
        "plt.show()\n"
      ],
      "metadata": {
        "id": "LmS8ZY73W64S"
      },
      "execution_count": null,
      "outputs": []
    },
    {
      "cell_type": "code",
      "source": [
        "num_cols = len(df.columns)\n",
        "fig, axes = plt.subplots(1, num_cols, figsize=(15, 5), sharey=True)\n",
        "\n",
        "for i, column in enumerate(df.columns):\n",
        "    axes[i].hist(df[column], bins=10, alpha=0.7)\n",
        "    axes[i].set_title(column)\n",
        "    axes[i].set_xlabel(\"Values\")\n",
        "    axes[i].set_ylabel(\"Frequency\")\n",
        "\n",
        "plt.tight_layout()\n",
        "plt.show()\n"
      ],
      "metadata": {
        "id": "Bl4PMXPSXOB5"
      },
      "execution_count": null,
      "outputs": []
    },
    {
      "cell_type": "code",
      "source": [
        "from scipy.stats import gaussian_kde\n",
        "\n",
        "plt.figure(figsize=(10, 6))\n",
        "\n",
        "for column in df.columns:\n",
        "    kde = gaussian_kde(df[column])\n",
        "    x_vals = np.linspace(df[column].min(), df[column].max(), 100)\n",
        "    plt.plot(x_vals, kde(x_vals), label=column)\n",
        "\n",
        "plt.title(\"Kernel Density Estimation\")\n",
        "plt.xlabel(\"Values\")\n",
        "plt.ylabel(\"Density\")\n",
        "plt.legend()\n",
        "plt.show()\n"
      ],
      "metadata": {
        "id": "d2cQwOhVXVer"
      },
      "execution_count": null,
      "outputs": []
    },
    {
      "cell_type": "code",
      "source": [
        "import seaborn as sns\n",
        "\n",
        "plt.figure(figsize=(10, 6))\n",
        "sns.violinplot(data=df, inner=\"quartile\")\n",
        "plt.title(\"Violin Plot of Data\")\n",
        "plt.xlabel(\"Categories\")\n",
        "plt.ylabel(\"Values\")\n",
        "plt.show()\n"
      ],
      "metadata": {
        "id": "7Qn9nWAPXfeA"
      },
      "execution_count": null,
      "outputs": []
    },
    {
      "cell_type": "code",
      "source": [
        "fig, axes = plt.subplots(1, 3, figsize=(18, 6), sharey=True)\n",
        "\n",
        "# Box Plot\n",
        "df.boxplot(ax=axes[0])\n",
        "axes[0].set_title(\"Box Plot\")\n",
        "axes[0].set_ylabel(\"Values\")\n",
        "\n",
        "# Jittered Dot Plot\n",
        "for i, column in enumerate(df.columns):\n",
        "    x = np.random.normal(i + 1, 0.1, size=df[column].shape)\n",
        "    axes[1].scatter(x, df[column], alpha=0.7, s=10)\n",
        "axes[1].set_title(\"Jittered Dot Plot\")\n",
        "axes[1].set_xlabel(\"Categories\")\n",
        "\n",
        "# Violin Plot\n",
        "sns.violinplot(data=df, inner=\"quartile\", ax=axes[2])\n",
        "axes[2].set_title(\"Violin Plot\")\n",
        "\n",
        "plt.tight_layout()\n",
        "plt.show()\n"
      ],
      "metadata": {
        "id": "3eNY_k8xXjLT"
      },
      "execution_count": null,
      "outputs": []
    }
  ]
}