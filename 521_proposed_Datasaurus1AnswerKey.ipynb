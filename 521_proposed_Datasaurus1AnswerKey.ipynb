{
 "cells": [
  {
   "cell_type": "markdown",
   "metadata": {
    "deletable": false,
    "editable": false,
    "nbgrader": {
     "cell_type": "markdown",
     "checksum": "8dbb7b0711a5dee59fb9df955a5759cc",
     "grade": false,
     "grade_id": "cell-intro",
     "locked": true,
     "schema_version": 3,
     "solution": false,
     "task": false
    }
   },
   "source": [
    "# Statistics and Visualization Assignment (100 points)\n",
    "\n",
    "In this assignment, you'll explore the relationship between summary statistics and data visualization using a mystery dataset. You'll discover why it's crucial to look beyond basic statistical measures when analyzing data."
   ]
  },
  {
   "cell_type": "code",
   "execution_count": null,
   "metadata": {},
   "outputs": [],
   "source": [
    "import pandas as pd\n",
    "import numpy as np\n",
    "import matplotlib.pyplot as plt"
   ]
  },
  {
   "cell_type": "markdown",
   "metadata": {
    "deletable": false,
    "editable": false,
    "nbgrader": {
     "cell_type": "markdown",
     "checksum": "f1624fa058a2f60d4b645dab9d2743f1",
     "grade": false,
     "grade_id": "cell-part1",
     "locked": true,
     "schema_version": 3,
     "solution": false,
     "task": false
    }
   },
   "source": [
    "## Part 1: Data Loading and Initial Analysis (15 points)\n",
    "\n",
    "First, load the mystery dataset and examine its basic properties. The dataset is provided in 'mystery_data.tsv'."
   ]
  },
  {
   "cell_type": "code",
   "execution_count": null,
   "metadata": {
    "deletable": false,
    "nbgrader": {
     "cell_type": "code",
     "checksum": "d3f6dd6f8c9546ca1f9203495c2df42b",
     "grade": false,
     "grade_id": "data_loading",
     "locked": false,
     "schema_version": 3,
     "solution": true,
     "task": false
    }
   },
   "outputs": [],
   "source": [
    "def load_and_display_data():\n",
    "    \"\"\"Load the mystery dataset and display its first few rows.\"\"\"\n",
    "    # Read the dataset\n",
    "    mystery_data = pd.read_csv('mystery_data.tsv', sep='\\t')\n",
    "    # Filter to just get the dinosaur dataset\n",
    "    dino_data = mystery_data[mystery_data['dataset'] == 'dino'][['x', 'y']]\n",
    "    return dino_data\n",
    "\n",
    "# Load and display the data\n",
    "mystery_data = load_and_display_data()\n",
    "print(\"First few rows of our mystery dataset:\")\n",
    "mystery_data.head()"
   ]
  },
  {
   "cell_type": "markdown",
   "metadata": {
    "deletable": false,
    "editable": false,
    "nbgrader": {
     "cell_type": "markdown",
     "checksum": "6ef1158018838ca8b5b728fce67e627e",
     "grade": false,
     "grade_id": "cell-part2",
     "locked": true,
     "schema_version": 3,
     "solution": false,
     "task": false
    }
   },
   "source": [
    "## Part 2: Summary Statistics (30 points)\n",
    "\n",
    "Calculate key statistical measures for the dataset. Make sure to include:\n",
    "- Mean and standard deviation for x and y\n",
    "- Correlation between x and y\n",
    "- Any other statistics you think might be informative"
   ]
  },
  {
   "cell_type": "code",
   "execution_count": null,
   "metadata": {
    "deletable": false,
    "nbgrader": {
     "cell_type": "code",
     "checksum": "5c8e9c4c6735e783c3f61dfdfd2dd9d6",
     "grade": false,
     "grade_id": "statistics",
     "locked": false,
     "schema_version": 3,
     "solution": true,
     "task": false
    }
   },
   "outputs": [],
   "source": [
    "def calculate_statistics(data):\n",
    "    \"\"\"Calculate and display key statistics for the dataset.\"\"\"\n",
    "    stats = {}\n",
    "    \n",
    "    # Calculate basic summary statistics\n",
    "    stats['mean_x'] = data['x'].mean()\n",
    "    stats['mean_y'] = data['y'].mean()\n",
    "    stats['std_x'] = data['x'].std()\n",
    "    stats['std_y'] = data['y'].std()\n",
    "    stats['correlation'] = data['x'].corr(data['y'])\n",
    "    \n",
    "    print(\"\\nSummary Statistics:\")\n",
    "    print(f\"X Mean: {stats['mean_x']:.2f}\")\n",
    "    print(f\"Y Mean: {stats['mean_y']:.2f}\")\n",
    "    print(f\"X Standard Deviation: {stats['std_x']:.2f}\")\n",
    "    print(f\"Y Standard Deviation: {stats['std_y']:.2f}\")\n",
    "    print(f\"Correlation: {stats['correlation']:.2f}\")\n",
    "    \n",
    "    return stats\n",
    "\n",
    "stats_results = calculate_statistics(mystery_data)"
   ]
  },
  {
   "cell_type": "markdown",
   "metadata": {
    "deletable": false,
    "editable": false,
    "nbgrader": {
     "cell_type": "markdown",
     "checksum": "21019fdb4306652aa14cc5b6d5ca68fe",
     "grade": false,
     "grade_id": "cell-part3",
     "locked": true,
     "schema_version": 3,
     "solution": false,
     "task": false
    }
   },
   "source": [
    "## Part 3: Written Analysis (20 points)\n",
    "\n",
    "Based on the summary statistics you calculated above:\n",
    "1. What type of relationship do you expect between x and y variables?\n",
    "2. Sketch what you think the data might look like when plotted.\n",
    "3. What conclusions might you draw about this dataset based only on these statistics?\n",
    "4. What additional statistical measures might be helpful?"
   ]
  },
  {
   "cell_type": "markdown",
   "metadata": {
    "deletable": false,
    "nbgrader": {
     "cell_type": "markdown",
     "checksum": "f1624fa058a2f60d4b645dab9d2743f1",
     "grade": true,
     "grade_id": "written_analysis",
     "locked": false,
     "points": 20,
     "schema_version": 3,
     "solution": true,
     "task": false
    }
   },
   "source": [
    "Based on the summary statistics alone, one might expect:\n",
    "1. A roughly linear or random cloud of points, given the near-zero correlation\n",
    "2. A fairly spread-out distribution based on the standard deviations\n",
    "3. Points centered around (54.26, 47.83) based on the means\n",
    "\n"
   ]
  },
  {
   "cell_type": "markdown",
   "metadata": {
    "deletable": false,
    "editable": false,
    "nbgrader": {
     "cell_type": "markdown",
     "checksum": "ee6487094030bbefc8f603f5b3caf323",
     "grade": false,
     "grade_id": "cell-part4",
     "locked": true,
     "schema_version": 3,
     "solution": false,
     "task": false
    }
   },
   "source": [
    "## Part 4: Data Visualization (35 points)\n",
    "\n",
    "Create a comprehensive visualization of the dataset. Your visualization should include:\n",
    "- A scatter plot of x vs y\n",
    "- Appropriate figure size and styling\n",
    "- Clear titles and labels\n",
    "- A text box showing the summary statistics"
   ]
  },
  {
   "cell_type": "code",
   "execution_count": null,
   "metadata": {
    "deletable": false,
    "nbgrader": {
     "cell_type": "code",
     "checksum": "c6335a26af49e0ba",
     "grade": false,
     "grade_id": "visualization",
     "locked": false,
     "schema_version": 3,
     "solution": true,
     "task": false
    }
   },
   "outputs": [],
   "source": [
    "def create_visualization(data, stats):\n",
    "    \"\"\"Create and display a comprehensive visualization of the dataset.\"\"\"\n",
    "    plt.figure(figsize=(10, 8))\n",
    "    \n",
    "    # Create scatter plot\n",
    "    plt.scatter(data['x'], data['y'], alpha=0.5, color='green', label='Data Points')\n",
    "    \n",
    "    # Add title and labels\n",
    "    plt.title(\"The Mystery Dataset Revealed!\", fontsize=14)\n",
    "    plt.xlabel(\"X Values\")\n",
    "    plt.ylabel(\"Y Values\")\n",
    "    \n",
    "    # Add grid\n",
    "    plt.grid(True, alpha=0.3)\n",
    "    \n",
    "    # Add stats textbox\n",
    "    stats_text = f\"Summary Statistics:\\n\"\n",
    "    stats_text += f\"Mean X: {stats['mean_x']:.2f}\\n\"\n",
    "    stats_text += f\"Mean Y: {stats['mean_y']:.2f}\\n\"\n",
    "    stats_text += f\"Std X: {stats['std_x']:.2f}\\n\"\n",
    "    stats_text += f\"Std Y: {stats['std_y']:.2f}\\n\"\n",
    "    stats_text += f\"Correlation: {stats['correlation']:.2f}\"\n",
    "    \n",
    "    plt.text(0.02, 0.98, stats_text,\n",
    "             transform=plt.gca().transAxes,\n",
    "             bbox=dict(facecolor='white', alpha=0.8),\n",
    "             verticalalignment='top',\n",
    "             fontsize=10)\n",
    "    \n",
    "    plt.tight_layout()\n",
    "    plt.show()\n",
    "\n",
    "create_visualization(mystery_data, stats_results)"
   ]
  },
  {
   "cell_type": "markdown",
   "metadata": {
    "deletable": false,
    "editable": false,
    "nbgrader": {
     "cell_type": "markdown",
     "checksum": "c5c6ab65daf0e33a317b7cf0dc4b1806",
     "grade": false,
     "grade_id": "cell-reflection",
     "locked": true,
     "schema_version": 3,
     "solution": false,
     "task": false
    }
   },
   "source": [
    "## Extra Credit: Reflection (10 bonus points)\n",
    "\n",
    "After completing your visualization:\n",
    "1. Compare your expectations from Part 3 with the actual visualization\n",
    "2. What surprised you most about this exercise?\n",
    "3. What are the implications for data analysis practices?"
   ]
  },
  {
   "cell_type": "markdown",
   "metadata": {
    "deletable": false,
    "nbgrader": {
     "cell_type": "markdown",
     "checksum": "8678cb84a74a787332ed6ad5bafa4fd0",
     "grade": true,
     "grade_id": "reflection",
     "locked": false,
     "points": 10,
     "schema_version": 3,
     "solution": true,
     "task": false
    }
   },
   "source": [
    "The visualization reveals that summary statistics can be deeply misleading!\n",
    "The data actually forms the shape of a dinosaur, despite having the same \n",
    "summary statistics that might suggest a simple point cloud.\n",
    "\n",
    "This is a classic example of why we should always visualize our data,\n",
    "not just compute summary statistics."
   ]
  }
 ],
 "metadata": {
  "kernelspec": {
   "display_name": "Python 3",
   "language": "python",
   "name": "python3"
  },
  "language_info": {
   "codemirror_mode": {
    "name": "ipython",
    "version": 3
   },
   "file_extension": ".py",
   "mimetype": "text/x-python",
   "name": "python",
   "nbconvert_exporter": "python",
   "pygments_lexer": "ipython3",
   "version": "3.8.0"
  },
  "nbgrader": {
   "notebook_version": 2,
   "schema_version": 3
  }
 },
 "nbformat": 4,
 "nbformat_minor": 4
}
